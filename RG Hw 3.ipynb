{
 "cells": [
  {
   "cell_type": "code",
   "execution_count": 3,
   "metadata": {},
   "outputs": [],
   "source": [
    "import numpy as np\n",
    "import pandas as pd\n",
    "from pandas.plotting import autocorrelation_plot, lag_plot\n",
    "import matplotlib.pyplot as plt\n",
    "import matplotlib.gridspec as gridspec\n",
    "from scipy.fftpack import rfft, irfft, fftfreq\n",
    "%matplotlib inline\n",
    "import matplotlib.pyplot as plt\n",
    "import seaborn as sns; sns.set()\n",
    "\n",
    "#Rain data obtained from Rutgers Meterological Station https://www.njweather.org/data/5min/1101"
   ]
  },
  {
   "cell_type": "code",
   "execution_count": 4,
   "metadata": {},
   "outputs": [
    {
     "name": "stderr",
     "output_type": "stream",
     "text": [
      "C:\\Users\\cassi_000\\Anaconda3\\lib\\site-packages\\IPython\\core\\interactiveshell.py:3057: DtypeWarning: Columns (14,15,16) have mixed types. Specify dtype option on import or set low_memory=False.\n",
      "  interactivity=interactivity, compiler=compiler, result=result)\n"
     ]
    }
   ],
   "source": [
    "#Setting up some variables to make the next few sections easier\n",
    "rgd     = pd.read_csv('./rgdata.csv')\n",
    "#Below is the setup for different sections of data to be able to zoom in\n",
    "# on the filters later.\n",
    "t0=rgd['Time since start (minutes)']  #full time of data collection for overall trend\n",
    "time1start=0\n",
    "time1end=19647 #1 week of data collection to see trends from day to day\n",
    "t1=rgd['Time since start (minutes)'].iloc[time1start:time1end]\n",
    "time2start=4506\n",
    "time2end=7367 #1 full day/night cycle to see trends from hour to hour\n",
    "t2=rgd['Time since start (minutes)'].iloc[time2start:time2end]"
   ]
  },
  {
   "cell_type": "code",
   "execution_count": 12,
   "metadata": {},
   "outputs": [],
   "source": [
    "#To get low pass and high pass signals \n",
    "windowSize=3*120 #3 h\n",
    "\n",
    "dataptToShow = 'Soil Moisture Sensor 1 (cap)'\n",
    "originalSignal = rgd[dataptToShow] #entire data set\n",
    "sms1_lowpass = originalSignal.rolling(windowSize, center=True).mean()\n",
    "sms1_highpass = originalSignal - sms1_lowpass \n",
    "\n",
    "dataptToShow = 'Soil Moisture Sensor 2 (cap)'\n",
    "originalSignal = rgd[dataptToShow] #entire data set\n",
    "sms2_lowpass = originalSignal.rolling(windowSize, center=True).mean()\n",
    "sms2_highpass = originalSignal - sms2_lowpass \n",
    "\n",
    "dataptToShow = 'Soil Moisture Sensor 3 (cap)'\n",
    "originalSignal = rgd[dataptToShow] #entire data set\n",
    "sms3_lowpass = originalSignal.rolling(windowSize, center=True).mean()\n",
    "sms3_highpass = originalSignal - sms3_lowpass\n",
    "\n",
    "dataptToShow = 'Temperature (deg C)'\n",
    "originalSignal = rgd[dataptToShow] #entire data set\n",
    "temp_lowpass = originalSignal.rolling(windowSize, center=True).mean()\n",
    "temp_highpass = originalSignal - temp_lowpass\n",
    "\n",
    "dataptToShow = 'Humidity (%)'\n",
    "originalSignal = rgd[dataptToShow] #entire data set\n",
    "rh_lowpass = originalSignal.rolling(windowSize, center=True).mean()\n",
    "rh_highpass = originalSignal - rh_lowpass"
   ]
  },
  {
   "cell_type": "code",
   "execution_count": 13,
   "metadata": {},
   "outputs": [
    {
     "name": "stdout",
     "output_type": "stream",
     "text": [
      "                               Low Pass Temperature (deg C)  \\\n",
      "Low Pass Temperature (deg C)                       1.000000   \n",
      "High Pass Temperature (deg C)                      0.140551   \n",
      "\n",
      "                               High Pass Temperature (deg C)  \n",
      "Low Pass Temperature (deg C)                        0.140551  \n",
      "High Pass Temperature (deg C)                       1.000000                                    Low Pass Relative Humidity (%)  \\\n",
      "Low Pass Relative Humidity (%)                         1.000000   \n",
      "High Pass Relative Humidity (%)                        0.053458   \n",
      "\n",
      "                                 High Pass Relative Humidity (%)  \n",
      "Low Pass Relative Humidity (%)                          0.053458  \n",
      "High Pass Relative Humidity (%)                         1.000000                                     Low Pass Soil Moisture S1 (cap)  \\\n",
      "Low Pass Soil Moisture S1 (cap)                          1.000000   \n",
      "High Pass Soil Moisture S1 (cap)                         0.060632   \n",
      "\n",
      "                                  High Pass Soil Moisture S1 (cap)  \n",
      "Low Pass Soil Moisture S1 (cap)                           0.060632  \n",
      "High Pass Soil Moisture S1 (cap)                          1.000000                                     Low Pass Soil Moisture S2 (cap)  \\\n",
      "Low Pass Soil Moisture S2 (cap)                          1.000000   \n",
      "High Pass Soil Moisture S2 (cap)                         0.075242   \n",
      "\n",
      "                                  High Pass Soil Moisture S2 (cap)  \n",
      "Low Pass Soil Moisture S2 (cap)                           0.075242  \n",
      "High Pass Soil Moisture S2 (cap)                          1.000000                                     Low Pass Soil Moisture S3 (cap)  \\\n",
      "Low Pass Soil Moisture S3 (cap)                           1.00000   \n",
      "High Pass Soil Moisture S3 (cap)                          0.06341   \n",
      "\n",
      "                                  High Pass Soil Moisture S3 (cap)  \n",
      "Low Pass Soil Moisture S3 (cap)                            0.06341  \n",
      "High Pass Soil Moisture S3 (cap)                           1.00000  \n"
     ]
    }
   ],
   "source": [
    "#Here we make a new data set with just the low pass filtered data. This way\n",
    "#our regressions will not be ruined by data abberrations\n",
    "lpfilteredRGD=pd.DataFrame({'Time since start (minutes)': t0,\n",
    "                            'Low Pass Temperature (deg C)': temp_lowpass,\n",
    "                            'Low Pass Relative Humidity (%)': rh_lowpass,\n",
    "                            'Low Pass Soil Moisture S1 (cap)': sms1_lowpass,\n",
    "                            'Low Pass Soil Moisture S2 (cap)': sms2_lowpass,\n",
    "                            'Low Pass Soil Moisture S3 (cap)': sms3_lowpass,\n",
    "                            'Rain (inch)': rgd['Inches of rain']})\n",
    "hpfilteredRGD=pd.DataFrame({'Time since start (minutes)': t0,\n",
    "                            'High Pass Temperature (deg C)': temp_highpass,\n",
    "                            'High Pass Relative Humidity (%)': rh_highpass,\n",
    "                            'High Pass Soil Moisture S1 (cap)': sms1_highpass,\n",
    "                            'High Pass Soil Moisture S2 (cap)': sms2_highpass,\n",
    "                            'High Pass Soil Moisture S3 (cap)': sms3_highpass})\n",
    "#Drop the na values\n",
    "lpfilteredRGD=lpfilteredRGD.dropna()\n",
    "hpfilteredRGD=hpfilteredRGD.dropna()\n",
    "\n",
    "temp_lhRGD=pd.DataFrame({'Low Pass Temperature (deg C)': temp_lowpass, 'High Pass Temperature (deg C)': temp_highpass}).dropna().corr()\n",
    "rh_lhRGD=pd.DataFrame({'Low Pass Relative Humidity (%)': rh_lowpass,'High Pass Relative Humidity (%)': rh_highpass}).dropna().corr()\n",
    "sms1_lhRGD=pd.DataFrame({'Low Pass Soil Moisture S1 (cap)': sms1_lowpass,'High Pass Soil Moisture S1 (cap)': sms1_highpass}).dropna().corr()\n",
    "sms2_lhRGD=pd.DataFrame({'Low Pass Soil Moisture S2 (cap)': sms2_lowpass,'High Pass Soil Moisture S2 (cap)': sms2_highpass}).dropna().corr()\n",
    "sms3_lhRGD=pd.DataFrame({'Low Pass Soil Moisture S3 (cap)': sms3_lowpass,'High Pass Soil Moisture S3 (cap)': sms3_highpass}).dropna().corr()\n",
    "\n",
    "#Correlate\n",
    "print(temp_lhRGD, \n",
    "      rh_lhRGD, \n",
    "      sms1_lhRGD, \n",
    "      sms2_lhRGD, \n",
    "      sms3_lhRGD)\n",
    "\n",
    "\n",
    "#The high and low frequency signals do not seem to correlate with one another. This, however, does not make sense, as \n",
    "#the high frequency signal is generated from the low frequency signal. Perhaps our window size is sufficiently large\n",
    "#to reduce this correlation."
   ]
  },
  {
   "cell_type": "code",
   "execution_count": 14,
   "metadata": {},
   "outputs": [],
   "source": [
    "#Conversion from capacitance readings to volume of water. Assumed linear calibration curve\n",
    "#Sensor 1\n",
    "Sat_cap1=680 #taken from field calibration data\n",
    "Dry_cap1=282\n",
    "m1=(100-0)/(Sat_cap1-Dry_cap1)\n",
    "b1=-m1*Dry_cap1\n",
    "#Sensor 2\n",
    "Sat_cap2=874 #taken from field calibration data\n",
    "Dry_cap2=218\n",
    "m2=(100-0)/(Sat_cap2-Dry_cap2)\n",
    "b2=-m2*Dry_cap2\n",
    "#Sensor 3               \n",
    "Sat_cap3=1012 #taken from field calibration data\n",
    "Dry_cap3=264\n",
    "m3=(100-0)/(Sat_cap3-Dry_cap3)\n",
    "b3=-m3*Dry_cap3\n",
    "\n",
    "percentwater1=m1*lpfilteredRGD['Low Pass Soil Moisture S1 (cap)']+b1 #calibration curve generated from experiment\n",
    "percentwater2=m2*lpfilteredRGD['Low Pass Soil Moisture S2 (cap)']+b2 #calibration curve generated from experiment\n",
    "percentwater3=m3*lpfilteredRGD['Low Pass Soil Moisture S3 (cap)']+b3 #calibration curve generated from experiment\n",
    "\n",
    "#calculates percent of void spaces full of water from capacitance readings\n",
    "A_basin=1.17*4046.86 #meters\n",
    "sensor_length=2.75*0.0254 #meters\n",
    "vol_soil=A_basin*sensor_length #meters cubed\n",
    "porosity=0.25 #http://www.leesburgva.gov/home/showdocument?id=5057\n",
    "\n",
    "waterVol1=percentwater1*vol_soil*porosity #volume water in top few inches of basin\n",
    "waterVol2=percentwater2*vol_soil*porosity #volume water in top few inches of basin\n",
    "waterVol3=percentwater3*vol_soil*porosity #volume water in top few inches of basin\n",
    "waterVolavg=(waterVol1+waterVol2)/2 #volume water in top few inches of basin\n",
    "\n",
    "freezept=0\n",
    "timefreezing=lpfilteredRGD['Time since start (minutes)'].loc[lpfilteredRGD['Low Pass Temperature (deg C)']<freezept]\n",
    "timenotfreezing=lpfilteredRGD['Time since start (minutes)'].loc[lpfilteredRGD['Low Pass Temperature (deg C)']>=freezept]\n",
    "freezing1=waterVol1.loc[lpfilteredRGD['Low Pass Temperature (deg C)']<freezept]\n",
    "notfreezing1=waterVol1.loc[lpfilteredRGD['Low Pass Temperature (deg C)']>=freezept]\n",
    "freezing2=waterVol2.loc[lpfilteredRGD['Low Pass Temperature (deg C)']<freezept]\n",
    "notfreezing2=waterVol2.loc[lpfilteredRGD['Low Pass Temperature (deg C)']>=freezept]\n",
    "freezing3=waterVol3.loc[lpfilteredRGD['Low Pass Temperature (deg C)']<freezept]\n",
    "notfreezing3=waterVol3.loc[lpfilteredRGD['Low Pass Temperature (deg C)']>=freezept]\n",
    "freezingavg=waterVolavg.loc[lpfilteredRGD['Low Pass Temperature (deg C)']<freezept]\n",
    "notfreezingavg=waterVolavg.loc[lpfilteredRGD['Low Pass Temperature (deg C)']>=freezept]"
   ]
  },
  {
   "cell_type": "code",
   "execution_count": 15,
   "metadata": {},
   "outputs": [],
   "source": [
    "#Conceptual Model\n",
    "#d(Volume water in top few inches of soil)/d(time)=d(Volume water in from rain&runoff)/dt-d(Volume of water that drains from the basin)/dt-Evaporation\n",
    "#Certain parameters of evaporation must be locally calibrated. We will do this in the next section."
   ]
  },
  {
   "cell_type": "code",
   "execution_count": 16,
   "metadata": {},
   "outputs": [],
   "source": [
    "#Water Volume in                    Altered time of concentration (timeDelay)- dictates time for runoff to reach basin\n",
    "\n",
    "#Rain\n",
    "vol_rain=A_basin*lpfilteredRGD['Rain (inch)']*0.0254 #0.5 min time step, m3/0.5 min\n",
    "#Runoff with delay due to drainage\n",
    "v_runoff=(2.03*.89+1.47*.91)*4046.86*lpfilteredRGD['Rain (inch)']\n",
    "timeDelay=240 #minutes\n",
    "v_runoff.index=v_runoff.index+timeDelay*2\n",
    "vol_runoff=np.zeros((timeDelay*2,1))\n",
    "a=pd.DataFrame(vol_rain).first_valid_index()\n",
    "b=pd.DataFrame(vol_rain).first_valid_index()+2*timeDelay-1\n",
    "c=b-a\n",
    "index_labels=np.linspace(start=a,stop=b, num=c+1)\n",
    "vol_runoff=pd.Series({'Rain (inch)':[vol_runoff]}).reindex(index=index_labels).fillna(0).append(v_runoff)\n",
    "d=pd.Series(vol_rain).last_valid_index()\n",
    "vol_runoff=vol_runoff.loc[:d]"
   ]
  },
  {
   "cell_type": "code",
   "execution_count": 22,
   "metadata": {},
   "outputs": [
    {
     "data": {
      "image/png": "[encoded data removed]",
      "text/plain": [
       "<Figure size 432x288 with 1 Axes>"
      ]
     },
     "metadata": {
      "needs_background": "light"
     },
     "output_type": "display_data"
    }
   ],
   "source": [
    "#Evaporation equation/Calibration     Calibrated evaporation coefficient during a time of no rain\n",
    "timeevap=lpfilteredRGD['Time since start (minutes)'].loc(axis=0)[:7500]\n",
    "temp=lpfilteredRGD['Low Pass Temperature (deg C)'].loc(axis=0)[:7500]\n",
    "humid=lpfilteredRGD['Low Pass Relative Humidity (%)'].loc(axis=0)[:7500]\n",
    "\n",
    "SVP=610.7*(10**((7.5*temp)/(temp+237.3)))\n",
    "VPD=(1-(humid/100))*SVP/1000 #http://cronklab.wikidot.com/calculation-of-vapour-pressure-deficit\n",
    "evap_constant=[10] #tried 1, 10, 100\n",
    "evap=((VPD*evap_constant)*A_basin/1000)/(60*2*24) #meters cubed/0.5 min https://agupubs.onlinelibrary.wiley.com/doi/pdf/10.1002/2014WR015523\n",
    "\n",
    "#For loop to get iterative changes\n",
    "deltaV=-evap #change in volume/0.5 min\n",
    "deltat=0.5 #1/2 minute time step\n",
    "initial=waterVol2.iloc[0]\n",
    "timeindex=lpfilteredRGD['Time since start (minutes)'].index #There are time jumps due to low pass filtering so we need to account for those in our model\n",
    "\n",
    "#To generate model data from iterative changes\n",
    "waterVol_model=np.zeros((len(deltaV),len(evap_constant)))\n",
    "waterVol_model[0]=initial+deltaV.iloc[0]*deltat\n",
    "for n in range(1,len(deltaV)):\n",
    "        waterVol_model[n]=waterVol_model[n-1]+deltaV.iloc[n]*deltat*(timeindex[n]-timeindex[n-1]) #multiply delta t by step in index\n",
    "\n",
    "x=timeevap\n",
    "waterVol2plot=waterVol2.loc(axis=0)[:7500]\n",
    "plt.scatter(x, waterVol2plot)\n",
    "plt.plot(x, waterVol_model)\n",
    "#Comparing measured water volume during a period of no rain to the model.\n",
    "#Guessing and checking to find the optimal evaporation coefficient.\n",
    "\n",
    "bestevapconstant=10\n",
    "#Calibrated evaporation\n",
    "temp=lpfilteredRGD['Low Pass Temperature (deg C)']\n",
    "humid=lpfilteredRGD['Low Pass Relative Humidity (%)']\n",
    "SVP=610.7*(10**((7.5*temp)/(temp+237.3)))\n",
    "VPD=(1-(humid/100))*SVP/1000 #http://cronklab.wikidot.com/calculation-of-vapour-pressure-deficit\n",
    "evap_constant=bestevapconstant \n",
    "evap=((VPD*evap_constant)*A_basin/1000)/(60*2*24) #meters cubed/0.5 min https://agupubs.onlinelibrary.wiley.com/doi/pdf/10.1002/2014WR015523"
   ]
  },
  {
   "cell_type": "code",
   "execution_count": 19,
   "metadata": {
    "scrolled": false
   },
   "outputs": [
    {
     "name": "stdout",
     "output_type": "stream",
     "text": [
      "Max water volume (m3): \n",
      "8268.190251749998\n"
     ]
    },
    {
     "data": {
      "text/plain": [
       "<matplotlib.collections.PathCollection at 0x8a45eada20>"
      ]
     },
     "execution_count": 19,
     "metadata": {},
     "output_type": "execute_result"
    },
    {
     "data": {
      "image/png": "[encoded data removed]",
      "text/plain": [
       "<Figure size 1008x1008 with 3 Axes>"
      ]
     },
     "metadata": {
      "needs_background": "light"
     },
     "output_type": "display_data"
    }
   ],
   "source": [
    "#Model/Drainage Calibration        Altered Saturated Hydraulic Conductivity (Ksi) and Field Capacity (FC)\n",
    "import math\n",
    "\n",
    "maxwaterVol=100*vol_soil*porosity\n",
    "print('Max water volume (m3): ')\n",
    "print(maxwaterVol)\n",
    "\n",
    "#Drainage https://www.ars.usda.gov/ARSUserFiles/50201000/WEPP/chap5.pdf\n",
    "FC=maxwaterVol*.7/(A_basin) \n",
    "Ksi=2.5*0.0254/(60*60) #m/s   2.75 inch/h\n",
    "#won't drain below a certain point-- if theta > fc, then drain\n",
    "\n",
    "#For loop to get iterative changes\n",
    "deltaV=-evap+vol_rain+vol_runoff #change in volume/0.5 min\n",
    "deltat=0.5 #1/2 minute time step\n",
    "initial=waterVol2.iloc[0]\n",
    "\n",
    "timeindex=lpfilteredRGD['Time since start (minutes)'].index #There are time jumps due to low pass filtering so we need to account for those in our model\n",
    "\n",
    "#To generate model data from iterative changes\n",
    "waterVol_model=np.zeros((len(deltaV),1))\n",
    "vol_drainage=np.zeros((len(deltaV),1))\n",
    "drainage=np.zeros((len(deltaV),1))\n",
    "theta=np.zeros((len(deltaV),1))\n",
    "UL=np.zeros((len(deltaV),1))\n",
    "waterVol_model[0]=initial+deltaV.iloc[0]*deltat\n",
    "theta[0]=waterVol_model[0]/A_basin\n",
    "UL[0]=theta[0]\n",
    "for n in range(1,len(deltaV)):\n",
    "    if theta[n-1]>FC:\n",
    "        drainage[n]=((theta[n-1]-FC)*(1-math.exp(-(deltat*60*(timeindex[n]-timeindex[n-1]))/((theta[n-1]-FC)/(Ksi*(theta[n-1]/(UL[n-1]))**(-2.655/(math.log(FC/UL[n-1]))))))))*A_basin\n",
    "        waterVol_model[n]=waterVol_model[n-1]+deltaV.iloc[n]*deltat*(timeindex[n]-timeindex[n-1])-drainage[n]\n",
    "        theta[n]=waterVol_model[n]/(A_basin)\n",
    "        UL[n]=theta[n]\n",
    "    else:\n",
    "        waterVol_model[n]=waterVol_model[n-1]+deltaV.iloc[n]*deltat*(timeindex[n]-timeindex[n-1])\n",
    "        theta[n]=waterVol_model[n]/(A_basin)\n",
    "        UL[n]=theta[n]       \n",
    "        drainage[n]=0\n",
    "\n",
    "evaporation=-evap\n",
    "vol_drainage=-drainage\n",
    "\n",
    "time=lpfilteredRGD['Time since start (minutes)']\n",
    "x=time\n",
    "\n",
    "#Decided that sensor 2 is the only one that has good data. Sensor 3 never changes, and sensor 1 has strange variations in the middle\n",
    "# of its data set that do not correspond to rainfall\n",
    "fig, ax = plt.subplots(nrows=3,ncols=1, figsize=(14,14))\n",
    "#Plots the model against the water volume measured by the sensor. Sensors 1 and 3 are omitted\n",
    "#for clarity.\n",
    "#ax[0].scatter(x, waterVol1)\n",
    "ax[0].scatter(x, waterVol2)\n",
    "#ax[0].scatter(x, waterVol3)\n",
    "ax[0].plot(x, waterVol_model)\n",
    "\n",
    "#Plots each of the terms of the model equation individually to show their\n",
    "#respective contributions to the changes observed in the model.\n",
    "ax[1].plot(x, vol_runoff)\n",
    "ax[1].plot(x, vol_rain)\n",
    "ax[1].plot(x, vol_drainage)\n",
    "ax[1].plot(x, evaporation)\n",
    "\n",
    "#Plots the time at which the air temperature was at or below freezing separately from\n",
    "#when it was above freezing. This is an attempt to ascertain a possible reason\n",
    "#behind nonsensical sensor data fluctuations. Freeze/thaw does not seem to affect\n",
    "#readings significantly.\n",
    "ax[2].scatter(timefreezing, freezing1)\n",
    "ax[2].scatter(timenotfreezing, notfreezing1)\n",
    "ax[2].scatter(timefreezing, freezing2)\n",
    "ax[2].scatter(timenotfreezing, notfreezing2)\n",
    "ax[2].scatter(timefreezing, freezing3)\n",
    "ax[2].scatter(timenotfreezing, notfreezing3)"
   ]
  },
  {
   "cell_type": "markdown",
   "metadata": {},
   "source": [
    "to do\n",
    "-format info for upload\n",
    "-look at percolation equation and evaporation\n",
    "-decide on raw data trends raw/lp sensor/temp/humidity data\n",
    "-decide on modeling results and how you will present them\n",
    "-why does this matter\n",
    "-what have others done?\n",
    "-decide on objectives\n",
    "-decide on how to throw out sensor data"
   ]
  }
 ],
 "metadata": {
  "kernelspec": {
   "display_name": "Python 3",
   "language": "python",
   "name": "python3"
  },
  "language_info": {
   "codemirror_mode": {
    "name": "ipython",
    "version": 3
   },
   "file_extension": ".py",
   "mimetype": "text/x-python",
   "name": "python",
   "nbconvert_exporter": "python",
   "pygments_lexer": "ipython3",
   "version": "3.7.3"
  }
 },
 "nbformat": 4,
 "nbformat_minor": 2
}
